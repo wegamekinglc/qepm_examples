{
 "cells": [
  {
   "cell_type": "code",
   "execution_count": 1,
   "metadata": {},
   "outputs": [],
   "source": [
    "%matplotlib inline\n",
    "import math\n",
    "import numpy as np\n",
    "import pandas as pd\n",
    "from matplotlib import pyplot as plt\n",
    "\n",
    "plt.style.use('fivethirtyeight')"
   ]
  },
  {
   "cell_type": "markdown",
   "metadata": {},
   "source": [
    "## 0. Introduction\n",
    "-------------------\n",
    "\n",
    "> This example is based on Example 2.5 from pp. 33 ~ 34 in chapter 2."
   ]
  },
  {
   "cell_type": "markdown",
   "metadata": {},
   "source": [
    "## 1. Parameters\n",
    "-----"
   ]
  },
  {
   "cell_type": "code",
   "execution_count": 17,
   "metadata": {},
   "outputs": [],
   "source": [
    "f = np.array([0.1, 0.0, -0.1]).reshape((-1, 1))\n",
    "vols = np.array([0.3, 0.3, 0.3])\n",
    "C = np.array([1., 0.5, 0.5, 0.5, 1., 0.5, 0.5, 0.5, 1.]).reshape((-1, 3))\n",
    "sigma = np.diag(vols) @ C @ np.diag(vols)"
   ]
  },
  {
   "cell_type": "code",
   "execution_count": 18,
   "metadata": {},
   "outputs": [
    {
     "name": "stdout",
     "output_type": "stream",
     "text": [
      "Return forecasts: \n",
      "[ 0.1  0.  -0.1]\n",
      "Covariance matrix: \n",
      "[[0.09  0.045 0.045]\n",
      " [0.045 0.09  0.045]\n",
      " [0.045 0.045 0.09 ]]\n"
     ]
    }
   ],
   "source": [
    "print(f\"Return forecasts: \\n{f.flatten()}\")\n",
    "print(f\"Covariance matrix: \\n{sigma}\")"
   ]
  },
  {
   "cell_type": "markdown",
   "metadata": {},
   "source": [
    "## 2. Investment Strategies\n",
    "----------------------"
   ]
  },
  {
   "cell_type": "code",
   "execution_count": 20,
   "metadata": {},
   "outputs": [],
   "source": [
    "def full_invest(sigma, f, lamb):\n",
    "    i = np.ones_like(f)\n",
    "    sigma_inv = np.linalg.inv(sigma)\n",
    "    s1 = i.T @ sigma_inv @ i\n",
    "    s2 = i.T @ sigma_inv @ f\n",
    "    w = sigma_inv @ i / s1 + (s1 * sigma_inv @ f - s2 * sigma_inv @ i) / lamb / s1\n",
    "    mu = w.T @ f\n",
    "    vol = math.sqrt(w.T @ sigma @ w)\n",
    "    return mu[0, 0], vol\n",
    "\n",
    "\n",
    "def long_short(sigma, f, lamb):\n",
    "    i = np.ones_like(f)\n",
    "    sigma_inv = np.linalg.inv(sigma)\n",
    "    s1 = i.T @ sigma_inv @ i\n",
    "    s2 = i.T @ sigma_inv @ f\n",
    "    w = (s1 * sigma_inv @ f - s2 * sigma_inv @ i) / lamb / s1\n",
    "    mu = w.T @ f\n",
    "    vol = math.sqrt(w.T @ sigma @ w)\n",
    "    return mu[0, 0], vol"
   ]
  },
  {
   "cell_type": "markdown",
   "metadata": {},
   "source": [
    "## 3. Results\n",
    "------------"
   ]
  },
  {
   "cell_type": "code",
   "execution_count": 22,
   "metadata": {},
   "outputs": [
    {
     "data": {
      "text/html": [
       "<div>\n",
       "<style scoped>\n",
       "    .dataframe tbody tr th:only-of-type {\n",
       "        vertical-align: middle;\n",
       "    }\n",
       "\n",
       "    .dataframe tbody tr th {\n",
       "        vertical-align: top;\n",
       "    }\n",
       "\n",
       "    .dataframe thead th {\n",
       "        text-align: right;\n",
       "    }\n",
       "</style>\n",
       "<table border=\"1\" class=\"dataframe\">\n",
       "  <thead>\n",
       "    <tr style=\"text-align: right;\">\n",
       "      <th></th>\n",
       "      <th>mu</th>\n",
       "      <th>full_invest</th>\n",
       "      <th>mu2</th>\n",
       "      <th>long_short</th>\n",
       "    </tr>\n",
       "  </thead>\n",
       "  <tbody>\n",
       "    <tr>\n",
       "      <th>0</th>\n",
       "      <td>0.004444</td>\n",
       "      <td>0.245040</td>\n",
       "      <td>0.004444</td>\n",
       "      <td>0.006667</td>\n",
       "    </tr>\n",
       "    <tr>\n",
       "      <th>1</th>\n",
       "      <td>0.004656</td>\n",
       "      <td>0.245049</td>\n",
       "      <td>0.004656</td>\n",
       "      <td>0.006984</td>\n",
       "    </tr>\n",
       "    <tr>\n",
       "      <th>2</th>\n",
       "      <td>0.004878</td>\n",
       "      <td>0.245058</td>\n",
       "      <td>0.004878</td>\n",
       "      <td>0.007317</td>\n",
       "    </tr>\n",
       "    <tr>\n",
       "      <th>3</th>\n",
       "      <td>0.005110</td>\n",
       "      <td>0.245069</td>\n",
       "      <td>0.005110</td>\n",
       "      <td>0.007665</td>\n",
       "    </tr>\n",
       "    <tr>\n",
       "      <th>4</th>\n",
       "      <td>0.005353</td>\n",
       "      <td>0.245081</td>\n",
       "      <td>0.005353</td>\n",
       "      <td>0.008030</td>\n",
       "    </tr>\n",
       "  </tbody>\n",
       "</table>\n",
       "</div>"
      ],
      "text/plain": [
       "         mu  full_invest       mu2  long_short\n",
       "0  0.004444     0.245040  0.004444    0.006667\n",
       "1  0.004656     0.245049  0.004656    0.006984\n",
       "2  0.004878     0.245058  0.004878    0.007317\n",
       "3  0.005110     0.245069  0.005110    0.007665\n",
       "4  0.005353     0.245081  0.005353    0.008030"
      ]
     },
     "execution_count": 22,
     "metadata": {},
     "output_type": "execute_result"
    }
   ],
   "source": [
    "lambs = np.exp(np.linspace(math.log(100), math.log(1.), 100))\n",
    "df_values = np.zeros((len(lambs), 4))\n",
    "\n",
    "for i, lamb in enumerate(lambs):\n",
    "    mu, vol = full_invest(sigma, f, lamb)\n",
    "    df_values[i, 0] = mu\n",
    "    df_values[i, 1] = vol\n",
    "\n",
    "    mu, vol = long_short(sigma, f, lamb)\n",
    "    df_values[i, 2] = mu\n",
    "    df_values[i, 3] = vol\n",
    "\n",
    "df = pd.DataFrame(df_values, columns=['mu', 'full_invest', 'mu2', 'long_short'])\n",
    "df.head()"
   ]
  },
  {
   "cell_type": "markdown",
   "metadata": {},
   "source": [
    "## 4. Plot\n",
    "-------------"
   ]
  },
  {
   "cell_type": "code",
   "execution_count": 43,
   "metadata": {},
   "outputs": [
    {
     "data": {
      "image/png": "[encoded data removed]",
      "text/plain": [
       "<matplotlib.figure.Figure at 0x211fdafae80>"
      ]
     },
     "metadata": {},
     "output_type": "display_data"
    }
   ],
   "source": [
    "fig = plt.figure(figsize=(12, 8))\n",
    "plt.plot(df['full_invest'], df['mu'])\n",
    "plt.plot(df['long_short'], df['mu2'])\n",
    "ax = fig.get_axes()[0]\n",
    "plt.legend(labels=['full_invest', 'long_short'])\n",
    "plt.xlabel('$\\sigma$')\n",
    "plt.ylabel('$\\mu$')\n",
    "\n",
    "# manipulate\n",
    "vals = ax.get_yticks()\n",
    "_ = ax.set_yticklabels(['{:3.0f}%'.format(x*100) for x in vals])\n",
    "\n",
    "vals = ax.get_xticks()\n",
    "_ = ax.set_xticklabels(['{:3.0f}%'.format(x*100) for x in vals])"
   ]
  },
  {
   "cell_type": "code",
   "execution_count": null,
   "metadata": {},
   "outputs": [],
   "source": []
  }
 ],
 "metadata": {
  "kernelspec": {
   "display_name": "Python 3",
   "language": "python",
   "name": "python3"
  },
  "language_info": {
   "codemirror_mode": {
    "name": "ipython",
    "version": 3
   },
   "file_extension": ".py",
   "mimetype": "text/x-python",
   "name": "python",
   "nbconvert_exporter": "python",
   "pygments_lexer": "ipython3",
   "version": "3.6.4"
  }
 },
 "nbformat": 4,
 "nbformat_minor": 2
}
