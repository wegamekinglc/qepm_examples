{
 "cells": [
  {
   "cell_type": "markdown",
   "metadata": {},
   "source": [
    "## 2.1\n",
    "---------------\n",
    "\n",
    "$$\n",
    "\\sigma_p^2 = \\omega_1^2\\sigma_1^2 + 2\\rho\\omega_1\\omega_2\\sigma_1\\sigma_2+\\omega_2^2\\sigma_2^2 \\\\\n",
    "$$\n",
    "其中：$\\omega_2 = 1 - \\omega_1$\n",
    "\n",
    "$$\n",
    "\\begin{align*}\n",
    "\\frac{\\partial\\sigma_p^2}{\\partial\\omega_1} = 2\\omega_1\\sigma_1^2 + 2\\rho\\omega_2\\sigma_1\\sigma_2 - 2\\rho\\omega_1\\sigma_1\\sigma_2 - 2\\omega_2\\sigma_2^2 = 0 \\\\\\\\\n",
    "=> \\omega_1\\sigma_1^2 + \\rho(1-\\omega_1)\\sigma_1\\sigma_2 - \\rho\\omega_1\\sigma_1\\sigma_2 - (1-\\omega_1)\\sigma_2^2 = 0 \\\\\\\\\n",
    "=> \\omega_1(\\sigma_1^2 + \\sigma_2^2 - 2\\rho\\sigma_1\\sigma_2) = \\sigma_2^2 - \\rho\\sigma_1\\sigma_2 \\\\\\\\\n",
    "=> \\omega_1 = \\frac{\\sigma_2^2 - \\rho\\sigma_1\\sigma_2}{\\sigma_1^2 + \\sigma_2^2 - 2\\rho\\sigma_1\\sigma_2}\n",
    "\\end{align*}\n",
    "$$"
   ]
  },
  {
   "cell_type": "markdown",
   "metadata": {},
   "source": [
    "## 2.2\n",
    "-----------------\n",
    "\n",
    "* 2.2.1\n",
    "\n",
    "    $$\n",
    "    \\begin{align*}\n",
    "    \\mathrm{ln}(1 + \\mu_a) = \\mathrm{ln}(\\frac{1}{L}\\sum_{i=1}^{L}1 + r_i) \\\\\\\\\n",
    "    \\mathrm{ln}(1 + \\mu_g) = \\sum_{i=1}^{L} \\frac{1}{L}\\mathrm{ln}(1 + r_i)\n",
    "    \\end{align*}\n",
    "    $$\n",
    "\n",
    "    由于 $\\mathrm{ln}$ 的单调性以及凹性， 结论得证。\n",
    "    \n",
    "\n",
    "* 2.2.2\n",
    "\n",
    "    当$r_i = \\mu + \\sigma \\epsilon_i$，当$L$趋向于无穷时，类似与随机微分方程$\\mathrm{d}S = \\mu S\\mathrm{d}t + \\sigma S\\mathrm{d}W_t$，使用伊藤引理，可以证明得对数收益率等于: $\\mu - \\frac{1}{2}\\sigma^2$"
   ]
  },
  {
   "cell_type": "code",
   "execution_count": null,
   "metadata": {},
   "outputs": [],
   "source": []
  }
 ],
 "metadata": {
  "kernelspec": {
   "display_name": "Python 3",
   "language": "python",
   "name": "python3"
  },
  "language_info": {
   "codemirror_mode": {
    "name": "ipython",
    "version": 3
   },
   "file_extension": ".py",
   "mimetype": "text/x-python",
   "name": "python",
   "nbconvert_exporter": "python",
   "pygments_lexer": "ipython3",
   "version": "3.6.4"
  }
 },
 "nbformat": 4,
 "nbformat_minor": 2
}
