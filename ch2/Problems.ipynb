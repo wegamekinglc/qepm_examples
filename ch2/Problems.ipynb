{
 "cells": [
  {
   "cell_type": "markdown",
   "metadata": {},
   "source": [
    "## 2.1\n",
    "---------------\n",
    "\n",
    "$$\n",
    "\\sigma_p^2 = \\omega_1^2\\sigma_1^2 + 2\\rho\\omega_1\\omega_2\\sigma_1\\sigma_2+\\omega_2^2\\sigma_2^2 \\\\\n",
    "$$\n",
    "其中：$\\omega_2 = 1 - \\omega_1$\n",
    "\n",
    "$$\n",
    "\\begin{align*}\n",
    "&\\frac{\\partial\\sigma_p^2}{\\partial\\omega_1} = 2\\omega_1\\sigma_1^2 + 2\\rho\\omega_2\\sigma_1\\sigma_2 - 2\\rho\\omega_1\\sigma_1\\sigma_2 - 2\\omega_2\\sigma_2^2 = 0 \\\\\\\\\n",
    "&\\Rightarrow \\omega_1\\sigma_1^2 + \\rho(1-\\omega_1)\\sigma_1\\sigma_2 - \\rho\\omega_1\\sigma_1\\sigma_2 - (1-\\omega_1)\\sigma_2^2 = 0 \\\\\\\\\n",
    "&\\Rightarrow \\omega_1(\\sigma_1^2 + \\sigma_2^2 - 2\\rho\\sigma_1\\sigma_2) = \\sigma_2^2 - \\rho\\sigma_1\\sigma_2 \\\\\\\\\n",
    "&\\Rightarrow \\omega_1 = \\frac{\\sigma_2^2 - \\rho\\sigma_1\\sigma_2}{\\sigma_1^2 + \\sigma_2^2 - 2\\rho\\sigma_1\\sigma_2}\n",
    "\\end{align*}\n",
    "$$"
   ]
  },
  {
   "cell_type": "markdown",
   "metadata": {},
   "source": [
    "## 2.2\n",
    "-----------------\n",
    "\n",
    "* *a*\n",
    "\n",
    "    显然 $u_g, \\ u_a > -1$\n",
    "    $$\n",
    "    \\begin{equation}\n",
    "    \\left\\{\n",
    "    \\begin{aligned}\n",
    "    \\mathrm{ln}(1 + \\mu_a) = \\mathrm{ln}(\\frac{1}{L}\\sum_{i=1}^{L}1 + r_i) \\\\\\\\\n",
    "    \\mathrm{ln}(1 + \\mu_g) = \\sum_{i=1}^{L} \\frac{1}{L}\\mathrm{ln}(1 + r_i)\n",
    "    \\end{aligned}\n",
    "    \\right.\n",
    "    \\end{equation}\n",
    "    $$\n",
    "\n",
    "    由于 $\\mathrm{ln}$ 的凹性， 得到:\n",
    "    \n",
    "    $$\n",
    "    \\mathrm{ln}(1 + \\mu_g) \\le \\mathrm{ln}(\\frac{1}{L}\\sum_{i=1}^{L}1 + r_i) = \\mathrm{ln}(1 + \\mu_a)\n",
    "    $$\n",
    "    \n",
    "    又由于 $\\mathrm{ln}$ 的单调性，结论得证。\n",
    "    \n",
    "\n",
    "* *b*\n",
    "\n",
    "    当$r_i = \\mu + \\sigma \\epsilon_i$，当$L$趋向于无穷时，类似与随机微分方程$\\mathrm{d}S = \\mu S\\mathrm{d}t + \\sigma S\\mathrm{d}W_t$，使用伊藤引理，可以证明得对数收益率等于: $\\mu - \\frac{1}{2}\\sigma^2$"
   ]
  },
  {
   "cell_type": "markdown",
   "metadata": {},
   "source": [
    "## 2.3\n",
    "------------\n",
    "\n",
    "* *a*\n",
    "\n",
    "    由于依照假设，收益率满足正态分布，设年化收益率均值为$\\mu_{year}$，年化波动率为$\\sigma_{year}$: \n",
    "\n",
    "    $$\n",
    "    \\mathrm{E}(1 + r_{year}) = \\mathrm{E}(1 + \\mu_{year} + \\sigma_{year}\\epsilon) = \\mathrm{E}\\prod_{i=1}^{12}(1 + \\mu + \\sigma\\epsilon_i)\n",
    "    $$\n",
    "\n",
    "    由于月度收益率相互独立:\n",
    "    \n",
    "    $$\n",
    "    \\begin{align*}\n",
    "     &\\mathrm{E}(1 + \\mu_{year} + \\sigma_{year}\\epsilon) = \\prod_{i=1}^{12}\\mathrm{E}(1 + \\mu + \\sigma\\epsilon_i) \\\\\\\\\n",
    "     &\\Rightarrow 1 + \\mu_{year}  = \\prod_{i=1}^{12}(1 + \\mu) \\\\\\\\\n",
    "     &\\Rightarrow \\mu_{year} = \\prod_{i=1}^{12}(1 + \\mu) - 1 = (1 + \\mu)^{12} - 1\n",
    "    \\end{align*}\n",
    "    $$\n",
    "    \n",
    "    对于波动率，首先我们计算$\\mathrm{Var}(r_{year}) = \\mathrm{Var}(1 + r_{year}) = \\mathrm{E}(1 + r_{year})^2 - \\mathrm{E}^2(1+ r_{year})$，其中：\n",
    "    \n",
    "    $$\n",
    "    \\mathrm{E}^2(1+ r_{year}) = ((1 + \\mu)^{12})^2 = (1 + \\mu) ^ {24}\n",
    "    $$\n",
    "    \n",
    "    对于第一项：\n",
    "    \n",
    "    $$\n",
    "    \\mathrm{E}(1 + r_{year})^2 = \\mathrm{E}(\\prod_{i=1}^{12}1 + \\mu + \\sigma\\epsilon_i)^2 = \\mathrm{E}\\prod_{i=1}^{12}(1 + \\mu + \\sigma\\epsilon_i)^2\n",
    "    $$\n",
    "    \n",
    "    同样的，由于独立性，上式等于：\n",
    "    \n",
    "    $$\n",
    "    \\prod_{i=1}^{12}\\mathrm{E}(1 + \\mu + \\sigma\\epsilon_i)^2 = ((1 + \\mu)^2 + \\sigma^2)^{12}\n",
    "    $$\n",
    "    \n",
    "    所以年化波动率为：\n",
    "    \n",
    "    $$\n",
    "    \\sigma_{year} = \\sqrt{\\mathrm{Var}(r_{year})} = \\sqrt{((1 + \\mu)^2 + \\sigma^2)^{12} - (1 + \\mu) ^ {24}}\n",
    "    $$\n",
    "    \n",
    "    当$\\sigma$很小时，为简化符号，令$ x = (1+\\mu)^2 $，则：\n",
    "    \n",
    "    $$\n",
    "    \\begin{align*}\n",
    "    \\sigma_{year}^2 &= (x + \\sigma^2)^{12} - x ^ {12} \\\\\\\\\n",
    "     &= ((x + \\sigma^2)^4 - x^4)((x + \\sigma^2)^8 + (x + \\sigma^2)^4x^4 + x^8) \\\\\\\\\n",
    "     &= ((x + \\sigma^2)^2 - x^2)((x + \\sigma^2)^2 + x^2)((x + \\sigma^2)^8 + (x + \\sigma^2)^4x^4 + x^8) \\\\\\\\\n",
    "     &= ((x + \\sigma^2) - x)((x + \\sigma^2) + x)((x + \\sigma^2)^2 + x^2)((x + \\sigma^2)^8 + (x + \\sigma^2)^4x^4 + x^8) \\\\\\\\\n",
    "     &\\approx \\sigma^2 \\times 2x \\times 2x^2 \\times 3x^8 \\\\\\\\\n",
    "     &= 12x^{11}\\sigma^2\n",
    "    \\end{align*}\n",
    "    $$\n",
    "    \n",
    "    结论得证。\n",
    "   \n",
    "   \n",
    "* *b*\n",
    "\n",
    "    暂无\n"
   ]
  },
  {
   "cell_type": "markdown",
   "metadata": {
    "collapsed": true
   },
   "source": [
    "## 2.4\n",
    "--------------------\n",
    "\n",
    "$$\n",
    "\\bar{AB} = (\\bar{OA} + \\bar{OB}\\cdot \\mathrm{cos}(\\theta))^2 + (\\bar{OB} \\cdot \\mathrm{sin}(\\theta))^2\n",
    "$$"
   ]
  },
  {
   "cell_type": "markdown",
   "metadata": {},
   "source": [
    "## 2.5\n",
    "--------------\n",
    "\n",
    "我们重述一下问题：\n",
    "\n",
    "$$\n",
    "Maximize \\ \\omega' \\cdot f - \\frac{1}{2} \\lambda w' \\Sigma w\n",
    "$$\n",
    "\n",
    "其中：$w' \\cdot i = 1$。\n",
    "\n",
    "使用拉格朗日乘子法，定义：\n",
    "\n",
    "$$\n",
    "f(\\omega, l) = \\omega' \\cdot f - \\frac{1}{2}w' \\Sigma w - l (\\omega' \\cdot i - 1)\n",
    "$$\n",
    "\n",
    "则f分别对于$\\omega, \\ l$求导数：\n",
    "\n",
    "$$\n",
    "\\begin{equation}\n",
    "\\left\\{\n",
    "\\begin{aligned}\n",
    "\\frac{\\partial f}{\\partial \\omega} &= f - \\lambda \\Sigma \\omega - l \\cdot i = 0 \\\\\\\\\n",
    "\\frac{\\partial f}{\\partial l} &= w' \\cdot i - 1 = 0\n",
    "\\end{aligned}\n",
    "\\right.\n",
    "\\end{equation}\n",
    "$$\n",
    "\n",
    "解(1)式得：$\\omega = \\frac{\\Sigma^{-1}(f - l \\cdot i)}{\\lambda}$，带入(2)式解得：\n",
    "\n",
    "$$\n",
    "l = \\frac{f'\\Sigma^{-1} i - \\lambda}{i' \\Sigma i}\n",
    "$$\n",
    "\n",
    "所以：\n",
    "\n",
    "$$\n",
    "\\omega = \\frac{\\Sigma^{-1}(f - \\frac{f'\\Sigma^{-1} i - \\lambda}{i' \\Sigma i} \\cdot i)}{\\lambda}\n",
    "$$\n",
    "\n",
    "简化以后，立得所需的结果。"
   ]
  },
  {
   "cell_type": "markdown",
   "metadata": {},
   "source": [
    "## 2.6\n",
    "------------\n",
    "\n",
    "与 2.5 相同的解法，唯一的区别：$l = \\frac{f'\\Sigma^{-1} i}{i' \\Sigma i}$"
   ]
  },
  {
   "cell_type": "markdown",
   "metadata": {},
   "source": [
    "## 2.7\n",
    "----------\n",
    "\n",
    "只需证明：$(i'\\Sigma^{-1}i)(f' \\Sigma^{-1} f) - (i'\\Sigma^{-1}f)^2 \\ge 0$。\n",
    "\n",
    "由于 $\\Sigma^{-1}$ 对称正定，所以必存在$L$，使得 $\\Sigma^{-1} = L'L$，令 $Li= A, \\ Lf = B$，则原式变换为：\n",
    "\n",
    "$$\n",
    "A'A \\cdot B'B - (A' B)^2 = ||A||^2 ||B||^2 - \\langle A, B \\rangle_2^2\n",
    "$$\n",
    "\n",
    "其中 $\\langle\\cdot, \\cdot\\rangle$ 代表向量的欧式内积。显然，由于 $\\langle A, B \\rangle_2^2 = \\mathrm{cos}^2(\\theta)||A||^2 ||B||^2 \\le ||A||^2 ||B||^2$，其中 $\\theta$ 为向量夹角，不等式得证。\n",
    "\n",
    "等号成立，当且仅当 $\\theta = 0$，即存在常数 $c$ 使得 $A = cB$，又由于$L$可逆，即为：$i = cf$。直观上说，预测为常数时，预期收益为0。\n",
    "\n",
    "该题也可以从协方差角度去证明（令$\\Sigma^{-1}$为一组资产的协方差矩阵,，$i$以及$f$为组合的权重）"
   ]
  },
  {
   "cell_type": "markdown",
   "metadata": {
    "collapsed": true
   },
   "source": [
    "## 2.8\n",
    "--------------------\n",
    "\n",
    "* *a*\n",
    "\n",
    "    假设指数权重为$\\omega = (\\omega_1, \\omega_2, ... \\omega_N)^T$，资产波动率为$\\sigma = (\\sigma_1, \\sigma_2, ... \\sigma_N)^T$，则指数波动率$\\sigma_m$ 为：\n",
    "    \n",
    "    $$\n",
    "    \\begin{align*}\n",
    "    \\sigma_m^2 &= \\sum_{i=1}^N\\omega_i^2 \\sigma_i^2 + \\sum_{i=1}^N\\sum_{j \\ne i}^N \\rho \\omega_i \\omega_j \\sigma_i \\sigma_j \\\\\\\\\n",
    "    &= \\sum_{i=1}^N\\omega_i^2 \\sigma_i^2  + \\rho \\sum_{i=1}^N\\sum_{j \\ne i}^N \\omega_i \\omega_j \\sigma_i \\sigma_j \\\\\\\\\n",
    "    &\\Rightarrow \\rho = \\frac{\\sigma_m^2 - \\sum_{i=1}^N\\omega_i^2 \\sigma_i^2}{\\sum_{i=1}^N\\sum_{j \\ne i}^N \\omega_i \\omega_j \\sigma_i \\sigma_j}\n",
    "    \\end{align*}\n",
    "    $$\n",
    "    \n",
    "    \n",
    "* *b*\n",
    "    \n",
    "    单一的 $\\rho$ 假设符合CAPM模型的要求，所有的资产只有一个共同的风险成分：市场风险。\n",
    "    \n",
    "    \n",
    "* *c*\n",
    "    \n",
    "    由经典的高斯消去法可以容易的求得逆矩阵，证明略。（或者可以使用伴随矩阵法迭代得到）\n",
    "    \n",
    "    \n",
    "* *d*"
   ]
  },
  {
   "cell_type": "code",
   "execution_count": 21,
   "metadata": {},
   "outputs": [],
   "source": [
    "import numpy as np\n",
    "\n",
    "N = 3\n",
    "rho = 0.5\n",
    "lamb = 100.\n",
    "f = np.array([0.02, 0.01, -0.03]).reshape((-1, 1))\n",
    "sigma_s = np.array([0.4, 0.2, 0.3])\n",
    "\n",
    "C = np.array([[1.0, rho, rho],\n",
    "              [rho, 1.0, rho],\n",
    "              [rho, rho, 1.0]])\n",
    "\n",
    "V = np.diag(sigma_s) @ C @ np.diag(sigma_s) \n",
    "\n",
    "inv_V = np.linalg.inv(V)"
   ]
  },
  {
   "cell_type": "markdown",
   "metadata": {},
   "source": [
    "    使用 pp. 31的式（2.17）"
   ]
  },
  {
   "cell_type": "code",
   "execution_count": 22,
   "metadata": {},
   "outputs": [
    {
     "name": "stdout",
     "output_type": "stream",
     "text": [
      "风险资产权重：\n",
      "[ 0.0025      0.005      -0.00666667]\n",
      "\n",
      "无风险资产权重：\n",
      "0.9992\n"
     ]
    }
   ],
   "source": [
    "w = inv_V @ f / lamb\n",
    "w_0 = 1. - w.sum()\n",
    "print(f\"风险资产权重：\\n{w.flatten()}\")\n",
    "print(f\"\\n无风险资产权重：\\n{w_0:0.4}\")"
   ]
  },
  {
   "cell_type": "code",
   "execution_count": null,
   "metadata": {
    "collapsed": true
   },
   "outputs": [],
   "source": []
  }
 ],
 "metadata": {
  "kernelspec": {
   "display_name": "Python 3",
   "language": "python",
   "name": "python3"
  },
  "language_info": {
   "codemirror_mode": {
    "name": "ipython",
    "version": 3
   },
   "file_extension": ".py",
   "mimetype": "text/x-python",
   "name": "python",
   "nbconvert_exporter": "python",
   "pygments_lexer": "ipython3",
   "version": "3.6.3"
  }
 },
 "nbformat": 4,
 "nbformat_minor": 2
}
