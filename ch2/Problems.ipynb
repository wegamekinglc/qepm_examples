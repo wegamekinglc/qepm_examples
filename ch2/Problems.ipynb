{
 "cells": [
  {
   "cell_type": "markdown",
   "metadata": {},
   "source": [
    "## 2.1\n",
    "---------------\n",
    "\n",
    "$$\n",
    "\\sigma_p^2 = \\omega_1^2\\sigma_1^2 + 2\\rho\\omega_1\\omega_2\\sigma_1\\sigma_2+\\omega_2^2\\sigma_2^2 \\\\\n",
    "$$\n",
    "其中：$\\omega_2 = 1 - \\omega_1$\n",
    "\n",
    "$$\n",
    "\\begin{align*}\n",
    "\\frac{\\partial\\sigma_p^2}{\\partial\\omega_1} = 2\\omega_1\\sigma_1^2 + 2\\rho\\omega_2\\sigma_1\\sigma_2 - 2\\rho\\omega_1\\sigma_1\\sigma_2 - 2\\omega_2\\sigma_2^2 = 0 \\\\\\\\\n",
    "=> \\omega_1\\sigma_1^2 + \\rho(1-\\omega_1)\\sigma_1\\sigma_2 - \\rho\\omega_1\\sigma_1\\sigma_2 - (1-\\omega_1)\\sigma_2^2 = 0 \\\\\\\\\n",
    "=> \\omega_1(\\sigma_1^2 + \\sigma_2^2 - 2\\rho\\sigma_1\\sigma_2) = \\sigma_2^2 - \\rho\\sigma_1\\sigma_2 \\\\\\\\\n",
    "=> \\omega_1 = \\frac{\\sigma_2^2 - \\rho\\sigma_1\\sigma_2}{\\sigma_1^2 + \\sigma_2^2 - 2\\rho\\sigma_1\\sigma_2}\n",
    "\\end{align*}\n",
    "$$"
   ]
  },
  {
   "cell_type": "markdown",
   "metadata": {},
   "source": [
    "## 2.2\n",
    "-----------------\n",
    "\n",
    "* *a*\n",
    "\n",
    "    $$\n",
    "    \\begin{align*}\n",
    "    \\mathrm{ln}(1 + \\mu_a) = \\mathrm{ln}(\\frac{1}{L}\\sum_{i=1}^{L}1 + r_i) \\\\\\\\\n",
    "    \\mathrm{ln}(1 + \\mu_g) = \\sum_{i=1}^{L} \\frac{1}{L}\\mathrm{ln}(1 + r_i)\n",
    "    \\end{align*}\n",
    "    $$\n",
    "\n",
    "    由于 $\\mathrm{ln}$ 的单调性以及凹性， 结论得证。\n",
    "    \n",
    "\n",
    "* *b*\n",
    "\n",
    "    当$r_i = \\mu + \\sigma \\epsilon_i$，当$L$趋向于无穷时，类似与随机微分方程$\\mathrm{d}S = \\mu S\\mathrm{d}t + \\sigma S\\mathrm{d}W_t$，使用伊藤引理，可以证明得对数收益率等于: $\\mu - \\frac{1}{2}\\sigma^2$"
   ]
  },
  {
   "cell_type": "markdown",
   "metadata": {},
   "source": [
    "## 2.3\n",
    "------------\n",
    "\n",
    "* *a*\n",
    "\n",
    "    由于依照假设，收益率满足正态分布，设年化收益率均值为$\\mu_{year}$，年化波动率为$\\sigma_{year}$: \n",
    "\n",
    "    $$\n",
    "    \\mathrm{E}(1 + r_{year}) = \\mathrm{E}(1 + \\mu_{year} + \\sigma_{year}\\epsilon) = \\mathrm{E}\\prod_{i=1}^{12}(1 + \\mu + \\sigma\\epsilon_i)\n",
    "    $$\n",
    "\n",
    "    由于月度收益率相互独立:\n",
    "    \n",
    "    $$\n",
    "    \\begin{align*}\n",
    "    \\mathrm{E}(1 + \\mu_{year} + \\sigma_{year}\\epsilon) &=& \\prod_{i=1}^{12}\\mathrm{E}(1 + \\mu + \\sigma\\epsilon_i) \\\\\\\\\n",
    "     1 + \\mu_{year}  &=& \\prod_{i=1}^{12}(1 + \\mu) \\\\\\\\\n",
    "     => \\mu_{year} &=& \\prod_{i=1}^{12}(1 + \\mu) - 1\n",
    "    \\end{align*}\n",
    "    $$\n",
    "    \n",
    "    对于波动率，首先我们计算$\\mathrm{Var}(r_{year}) = \\mathrm{Var}(1 + r_{year}) = \\mathrm{E}(1 + r_{year})^2 - \\mathrm{E}^2(1+ r_{year})$，其中：\n",
    "    \n",
    "    $$\n",
    "    \\mathrm{E}^2(1+ r_{year}) = ((1 + \\mu)^{12})^2 = (1 + \\mu) ^ {24}\n",
    "    $$\n",
    "    \n",
    "    对于第一项：\n",
    "    \n",
    "    $$\n",
    "    \\mathrm{E}(1 + r_{year})^2 = \\mathrm{E}(\\prod_{i=1}^{12}1 + \\mu + \\sigma\\epsilon_i)^2 = \\mathrm{E}\\prod_{i=1}^{12}(1 + \\mu + \\sigma\\epsilon_i)^2\n",
    "    $$\n",
    "    \n",
    "    同样的，由于独立性，上式等于：\n",
    "    \n",
    "    $$\n",
    "    \\prod_{i=1}^{12}\\mathrm{E}(1 + \\mu + \\sigma\\epsilon_i)^2 = ((1 + \\mu)^2 + \\sigma^2)^{12}\n",
    "    $$\n",
    "    \n",
    "    所以年化波动率为：\n",
    "    \n",
    "    $$\n",
    "    \\sigma_{year} = \\sqrt{\\mathrm{Var}(r_{year})} = \\sqrt{((1 + \\mu)^2 + \\sigma^2)^{12} - (1 + \\mu) ^ {24}}\n",
    "    $$\n",
    "    \n",
    "    当$\\sigma$很小时，为简化符号，令$ x = (1+\\mu)^2 $，则：\n",
    "    \n",
    "    $$\n",
    "    \\begin{align*}\n",
    "    \\sigma_{year}^2 = (x + \\sigma^2)^{12} - x ^ {12} &=& ((x + \\sigma^2)^4 - x^4)((x + \\sigma^2)^8 + (x + \\sigma^2)^4x^4 + x^8) \\\\\\\\\n",
    "     &=& ((x + \\sigma^2)^2 - x^2)((x + \\sigma^2)^2 + x^2)((x + \\sigma^2)^8 + (x + \\sigma^2)^4x^4 + x^8) \\\\\\\\\n",
    "     &=& ((x + \\sigma^2) - x)((x + \\sigma^2) + x)((x + \\sigma^2)^2 + x^2)((x + \\sigma^2)^8 + (x + \\sigma^2)^4x^4 + x^8) \\\\\\\\\n",
    "     &\\approx& \\sigma^2 \\times 2x \\times 2x^2 \\times 3x^8 \\\\\\\\\n",
    "     &=& = 12x^{11}\\sigma^2\n",
    "    \\end{align*}\n",
    "    $$\n",
    "    \n",
    "    结论得证。\n",
    "   \n",
    "   \n",
    "* *b*\n",
    "\n",
    "    暂无\n"
   ]
  },
  {
   "cell_type": "code",
   "execution_count": null,
   "metadata": {
    "collapsed": true
   },
   "outputs": [],
   "source": []
  }
 ],
 "metadata": {
  "kernelspec": {
   "display_name": "Python 3",
   "language": "python",
   "name": "python3"
  },
  "language_info": {
   "codemirror_mode": {
    "name": "ipython",
    "version": 3
   },
   "file_extension": ".py",
   "mimetype": "text/x-python",
   "name": "python",
   "nbconvert_exporter": "python",
   "pygments_lexer": "ipython3",
   "version": "3.6.3"
  }
 },
 "nbformat": 4,
 "nbformat_minor": 2
}
