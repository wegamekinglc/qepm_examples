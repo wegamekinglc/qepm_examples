{
 "cells": [
  {
   "cell_type": "code",
   "execution_count": null,
   "metadata": {},
   "outputs": [],
   "source": [
    "import math\n",
    "import numpy as np\n",
    "import pandas as pd"
   ]
  },
  {
   "cell_type": "markdown",
   "metadata": {},
   "source": [
    "## 0. Introduction\n",
    "---------------\n",
    "\n",
    "> This example is based on Example 2.7 from pp. 42 ~ 43 in chapter 2."
   ]
  },
  {
   "cell_type": "markdown",
   "metadata": {},
   "source": [
    "## 1. Parameters\n",
    "---------------------\n",
    "\n",
    "| Stock \t| Beta \t| Systematic Risk \t| Specific Risk \t| Total Risk \t| Forecast \t| w0   \t| w    \t|\n",
    "|-------\t|------\t|-----------------\t|---------------\t|------------\t|----------\t|------\t|------\t|\n",
    "| 1     \t| 1.5  \t| 23%             \t| 30%           \t| 38%        \t| 10%      \t| 44%  \t| 36%  \t|\n",
    "| 2     \t| 1.0  \t| 15%             \t| 30%           \t| 34%        \t| 0%       \t| 0%   \t| -6%  \t|\n",
    "| 3     \t| 0.5  \t| 8%              \t| 30%           \t| 31%        \t| -10%     \t| -44% \t| -47% \t|\n",
    "|   \t|   \t|   \t|   \t|   \t|   \t|   \t|   \t|"
   ]
  },
  {
   "cell_type": "code",
   "execution_count": null,
   "metadata": {},
   "outputs": [],
   "source": [
    "f = np.array([0.1, 0.0, -0.1]).reshape((-1, 1))\n",
    "s_risks = np.diag([0.3, 0.3, 0.3])\n",
    "lamb = 2.5\n",
    "beta = np.array([1.5, 1.0, 0.5]).reshape((-1, 1))\n",
    "beta_s = beta / np.diag(s_risks).reshape((-1, 1))\n",
    "beta_s2 = beta / (np.diag(s_risks) ** 2).reshape((-1, 1))\n",
    "s_mkt = 0.15\n",
    "\n",
    "S = s_risks ** 2"
   ]
  },
  {
   "cell_type": "markdown",
   "metadata": {},
   "source": [
    "## 2. Investment Strategies\n",
    "----------------------"
   ]
  },
  {
   "cell_type": "code",
   "execution_count": null,
   "metadata": {},
   "outputs": [],
   "source": [
    "def partial_solution(f, w, lamb):\n",
    "    return np.linalg.inv(S) @ f / lamb\n",
    "\n",
    "def optimal_weights(f, w, lamb, beta_s, beta_s2):\n",
    "    kappa = np.sum(beta_s ** 2) * (s_mkt ** 2)\n",
    "    adjust_weight = (s_mkt ** 2) / (1. + kappa) * np.dot(beta_s2.flatten(), f.flatten()) * beta_s2 / lamb\n",
    "    return partial_solution(f, w, lamb) - adjust_weight"
   ]
  },
  {
   "cell_type": "markdown",
   "metadata": {},
   "source": [
    "## 3. Result\n",
    "----------------"
   ]
  },
  {
   "cell_type": "code",
   "execution_count": null,
   "metadata": {},
   "outputs": [],
   "source": [
    "partial = partial_solution(f, w, lamb)\n",
    "optimal = optimal_weights(f, w, lamb, beta_s, beta_s2)"
   ]
  },
  {
   "cell_type": "code",
   "execution_count": null,
   "metadata": {},
   "outputs": [],
   "source": [
    "print(f\"Partial Optimal Weights: \\n{partial}\")\n",
    "print(f\"\\nOptimal Weights: \\n{optimal}\")"
   ]
  },
  {
   "cell_type": "markdown",
   "metadata": {},
   "source": [
    "The above result is exactly same as in the table 2.1 in the pp. 43"
   ]
  },
  {
   "cell_type": "code",
   "execution_count": null,
   "metadata": {},
   "outputs": [],
   "source": []
  }
 ],
 "metadata": {
  "kernelspec": {
   "display_name": "Python 3",
   "language": "python",
   "name": "python3"
  },
  "language_info": {
   "codemirror_mode": {
    "name": "ipython",
    "version": 3
   },
   "file_extension": ".py",
   "mimetype": "text/x-python",
   "name": "python",
   "nbconvert_exporter": "python",
   "pygments_lexer": "ipython3",
   "version": "3.6.4"
  }
 },
 "nbformat": 4,
 "nbformat_minor": 2
}
