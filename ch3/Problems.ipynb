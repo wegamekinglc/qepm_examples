{
 "cells": [
  {
   "cell_type": "markdown",
   "metadata": {},
   "source": [
    "## 3.1\n",
    "---------------\n",
    "\n",
    "$$\n",
    "\\begin{align*}\n",
    "&\\omega_{t + N} = \\omega_t \\omega ^N = \\frac{1}{2} \\omega_t \\\\\\\\\n",
    "&\\Rightarrow \\omega ^N = \\frac{1}{2} \\\\\\\\\n",
    "&\\Rightarrow N = -\\mathrm{ln}(2) / \\mathrm{ln}(\\omega)\n",
    "\\end{align*}\n",
    "$$"
   ]
  },
  {
   "cell_type": "markdown",
   "metadata": {},
   "source": [
    "## 3.2\n",
    "-------------\n",
    "\n",
    "根据式 （3.18），代入检验：$\\sigma\\frac{\\partial\\sigma}{\\partial\\omega} = \\sigma$"
   ]
  },
  {
   "cell_type": "markdown",
   "metadata": {},
   "source": [
    "## 3.3\n",
    "-----------------\n",
    "\n",
    "* *a*\n",
    "\n",
    "    $$\n",
    "    \\mathrm{MCR}_\\mathrm{specific} = \\frac{S\\omega}{\\sigma_{specific}}\n",
    "    $$\n",
    "    \n",
    "    显然得结论\n",
    "    \n",
    "    \n",
    "* *b*\n",
    "\n",
    "    由上题的结论得知，显然。"
   ]
  },
  {
   "cell_type": "markdown",
   "metadata": {},
   "source": [
    "## 3.4\n",
    "---------------\n",
    "\n",
    "结论是可能的，举例说明：\n",
    "\n",
    "假设：$S = 0$ 并且我们只有一个共同的市场因子，$\\beta = (1, -1)^T$, $\\sigma = 1$。则：\n",
    "\n",
    "$$\n",
    "\\mathrm{MCR} = BB'\\omega = \n",
    "\\begin{bmatrix}\n",
    "1 & -1 \\\\\n",
    "-1 & 1\n",
    "\\end{bmatrix}\n",
    "\\omega =\n",
    "\\begin{bmatrix}\n",
    "\\omega_1 - \\omega_2 \\\\\n",
    "\\omega_2 - \\omega_1\n",
    "\\end{bmatrix}\n",
    "$$\n",
    "\n",
    "在上面的式子中，当 $\\omega_1 > \\omega_2$ 的时候，向量的第二个元素小于0。"
   ]
  },
  {
   "cell_type": "markdown",
   "metadata": {},
   "source": [
    "## 3.5\n",
    "---------------\n",
    "\n",
    "暂无"
   ]
  },
  {
   "cell_type": "markdown",
   "metadata": {},
   "source": [
    "## 3.6\n",
    "-----------\n",
    "\n",
    "* *a*\n",
    "\n",
    "    $$\n",
    "    \\begin{align*}\n",
    "    \\mathrm{PCL_i} &= \\mathrm{E}(\\omega_i r_i | r_p = L) / L \\\\\\\\ \n",
    "    &= \\frac{(1 - \\mathrm{PCR}_i)\\omega_i \\mu_i}{L} + \\frac{\\mathrm{PCR}_i(L - \\sum_{j \\ne i} \\omega_j \\mu_j)}{L} \\\\\\\\\n",
    "    &= PCR_i + \\frac{\\omega_i\\mu_i - \\mathrm{PCR}_i\\sum_j \\omega_j \\mu_j}{L} = PCR_i + \\frac{\\omega_i\\mu_i - \\mathrm{PCR}_i\\mu_p}{L}\n",
    "    \\end{align*} \n",
    "    $$\n",
    "    \n",
    "    \n",
    "* *b*\n",
    "\n",
    "    只需要证明：\n",
    "\n",
    "    $$\n",
    "    \\omega_i\\mu_i - \\mathrm{PCR}_i\\mu_p = \\mathrm{PCR}_i(\\frac{\\omega_i\\mu_i}{\\mathrm{PCR}_i} - \\mu_p) = 0\n",
    "    $$\n",
    "\n",
    "    化简得：\n",
    "\n",
    "    $$\n",
    "    \\begin{align*}\n",
    "    \\frac{\\omega_i\\mu_i}{\\mathrm{PCR}_i} - \\mu_p &= \\frac{\\omega_i\\mu_i}{\\mathrm{PCR}_j} - \\sum_{j=1}^N \\omega_j \\mu_j \\\\\\\\\n",
    "    &= \\frac{\\omega_i\\mu_i}{\\mathrm{PCR}_j} - \\sum_{j=1}^N \\frac{\\omega_j \\mu_j}{\\mathrm{PCR}_j}\\mathrm{PCR}_j\n",
    "    \\end{align*}\n",
    "    $$\n",
    "\n",
    "    由题设，$\\frac{\\omega_j \\mu_j}{\\mathrm{PCR}_j} = \\mathrm{const}.$ 以及 $\\sum_{j=1}^N \\mathrm{PCR}_j = 1$，结论易得。\n",
    "    \n",
    "    \n",
    "* *c*\n",
    "\n",
    "    对于mean - variance组合，$\\omega = \\frac{\\Sigma^{-1} \\mu}{\\lambda} $，并且 $\\sigma = \\omega' \\Sigma \\omega$, 则：\n",
    "    $$\n",
    "    \\begin{align*}\n",
    "    \\mathrm{PCR}& = \\frac{\\omega \\otimes \\frac{\\partial{\\sigma}}{\\partial \\omega}}{\\sigma} = \\frac{2\\omega \\otimes \\Sigma \\omega}{\\sigma} \\\\\\\\\n",
    "    &= \\frac{2\\omega \\otimes \\mu}{\\lambda\\sigma}\n",
    "    \\end{align*}\n",
    "    $$\n",
    "    \n",
    "    即：$\\mathrm{PCR}_i = \\frac{2 \\omega_i \\mu_i}{\\lambda\\sigma} $, 推出：$\\frac{\\omega_i \\mu_i}{\\mathrm{PCR}_i} = \\lambda\\sigma / 2$\n",
    "\n",
    "\n",
    "* *d*\n",
    "\n",
    "    暂无"
   ]
  },
  {
   "cell_type": "code",
   "execution_count": null,
   "metadata": {},
   "outputs": [],
   "source": []
  }
 ],
 "metadata": {
  "kernelspec": {
   "display_name": "Python 3",
   "language": "python",
   "name": "python3"
  },
  "language_info": {
   "codemirror_mode": {
    "name": "ipython",
    "version": 3
   },
   "file_extension": ".py",
   "mimetype": "text/x-python",
   "name": "python",
   "nbconvert_exporter": "python",
   "pygments_lexer": "ipython3",
   "version": "3.6.4"
  }
 },
 "nbformat": 4,
 "nbformat_minor": 2
}
